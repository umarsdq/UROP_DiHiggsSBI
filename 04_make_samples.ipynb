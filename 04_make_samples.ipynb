{
 "cells": [
  {
   "cell_type": "markdown",
   "metadata": {},
   "source": [
    "# Step 4: Generate events at arbitrary benchmark points with MadMiner\n",
    "\n",
    "n.b.: this notebook is heavily based on the corresponding `MadMiner` one here: https://github.com/madminer-tool/madminer/blob/main/examples/tutorial_particle_physics/3a_likelihood_ratio.ipynb"
   ]
  },
  {
   "cell_type": "code",
   "execution_count": 1,
   "metadata": {},
   "outputs": [],
   "source": [
    "parameter_code = \"c1\""
   ]
  },
  {
   "cell_type": "code",
   "execution_count": 2,
   "metadata": {
    "tags": []
   },
   "outputs": [],
   "source": [
    "import logging\n",
    "import numpy as np\n",
    "import matplotlib\n",
    "from matplotlib import pyplot as plt\n",
    "\n",
    "%matplotlib inline\n",
    "\n",
    "from madminer.sampling import SampleAugmenter\n",
    "from madminer import sampling"
   ]
  },
  {
   "cell_type": "code",
   "execution_count": 3,
   "metadata": {
    "tags": []
   },
   "outputs": [],
   "source": [
    "# MadMiner output\n",
    "logging.basicConfig(\n",
    "    format='%(asctime)-5.5s %(name)-20.20s %(levelname)-7.7s %(message)s',\n",
    "    datefmt='%H:%M',\n",
    "    level=logging.INFO\n",
    ")\n",
    "\n",
    "# Output of all other modules (e.g. matplotlib)\n",
    "for key in logging.Logger.manager.loggerDict:\n",
    "    if \"madminer\" not in key:\n",
    "        logging.getLogger(key).setLevel(logging.WARNING)"
   ]
  },
  {
   "cell_type": "code",
   "execution_count": 4,
   "metadata": {
    "tags": []
   },
   "outputs": [],
   "source": [
    "import yaml\n",
    "with open(\"workflow.yaml\", \"r\") as file:\n",
    "    workflow = yaml.safe_load(file)"
   ]
  },
  {
   "cell_type": "code",
   "execution_count": 5,
   "metadata": {
    "tags": []
   },
   "outputs": [],
   "source": [
    "data_input_dir = workflow[\"sampling\"][\"input_dir\"]\n",
    "samples_output_dir = workflow[\"sampling\"][\"output_dir\"]"
   ]
  },
  {
   "cell_type": "markdown",
   "metadata": {},
   "source": [
    "## Generate signal samples at arbitrary benchmark points"
   ]
  },
  {
   "cell_type": "code",
   "execution_count": 6,
   "metadata": {
    "tags": []
   },
   "outputs": [],
   "source": [
    "test_split = 0.14"
   ]
  },
  {
   "cell_type": "markdown",
   "metadata": {},
   "source": [
    "You may want to specify exact benchmark points for test sets. Use the variable `parameter_code` to denote which SMEFT Wilson coefficients you're varying. "
   ]
  },
  {
   "cell_type": "code",
   "execution_count": 7,
   "metadata": {
    "tags": []
   },
   "outputs": [
    {
     "name": "stdout",
     "output_type": "stream",
     "text": [
      "['m20', 'm16', 'm12', 'm8', 'm4', 'p4', 'p8', 'p12', 'p16']\n",
      "[[0.0, -2.0, 0.0], [0.0, -1.6, 0.0], [0.0, -1.2, 0.0], [0.0, -0.8, 0.0], [0.0, -0.4, 0.0], [0.0, 0.4, 0.0], [0.0, 0.8, 0.0], [0.0, 1.2, 0.0], [0.0, 1.6, 0.0]]\n"
     ]
    }
   ],
   "source": [
    "if parameter_code == \"c1\":\n",
    "    test_set_codes = {\n",
    "        \"m20\": (0, -20, 0),\n",
    "        \"m16\": (0, -16, 0),\n",
    "        \"m12\": (0, -12, 0),\n",
    "        \"m8\": (0, -8, 0),\n",
    "        \"m4\": (0, -4, 0),\n",
    "        \"p4\": (0, 4, 0),\n",
    "        \"p8\": (0, 8, 0),\n",
    "        \"p12\": (0, 12, 0),\n",
    "        \"p16\": (0, 16, 0),\n",
    "    }\n",
    "elif parameter_code == \"c0\":\n",
    "    test_set_codes = {\n",
    "        \"m12\": (-12, 0, 0),\n",
    "        \"m10\": (-10, 0, 0),\n",
    "        \"m8\": (-8, 0, 0),\n",
    "        \"m6\": (-6, 0, 0),\n",
    "        \"m4\": (-4, 0, 0),\n",
    "        \"m2\": (-2, 0, 0),\n",
    "        \"p2\": (2, 0, 0),\n",
    "        \"p1\": (1, 0, 0),\n",
    "    }\n",
    "elif parameter_code == \"c0c1\":\n",
    "    test_set_codes = {\n",
    "        \"m10p2p0\": (-10, 2, 0),\n",
    "        \"p3m2p0\": (3, -2, 0),\n",
    "        \"m4p1p0\": (-4, 1, 0),\n",
    "    }\n",
    "elif parameter_code == \"c0c2\":\n",
    "    test_set_codes = {\n",
    "        \"m10p0p3\": (-10, 0, 3),\n",
    "        \"p3p0m2\": (3, 0, -2),\n",
    "        \"m4p0p3\": (-4, 0, 3),\n",
    "    }\n",
    "elif parameter_code == \"c1c2\":\n",
    "    test_set_codes = {\n",
    "        \"p0m2p2\": (0, -2, 2),\n",
    "        \"p0m3p1\": (0, -3, 1),\n",
    "        \"p0m1p3\": (0, -1, 3),\n",
    "    }\n",
    "else:\n",
    "    raise ValueError(f\"Unknown parameter_code: {parameter_code}\")\n",
    "\n",
    "\n",
    "print(list(test_set_codes.keys()))\n",
    "\n",
    "printed_codes = []\n",
    "for c in test_set_codes.keys():\n",
    "    printed_codes.append([test_set_codes[c][0]/10.0,test_set_codes[c][1]/10.0,test_set_codes[c][2]/10.0])\n",
    "\n",
    "print(printed_codes)\n"
   ]
  },
  {
   "cell_type": "markdown",
   "metadata": {
    "tags": []
   },
   "source": [
    "Note that the line `theta=sampling.random_morphing_points(1000, [(\"flat\", -14, 6), (\"flat\", -4, 5), (\"flat\", -5, 7)]),` will have to be modified if you only want to scan over 1 Wilson coefficient."
   ]
  },
  {
   "cell_type": "code",
   "execution_count": 8,
   "metadata": {
    "tags": []
   },
   "outputs": [
    {
     "name": "stderr",
     "output_type": "stream",
     "text": [
      "17:35 madminer.analysis.da INFO    Loading data from /home/hep/us322/SBI/nsbi_for_dihiggs/data/delphes_s_shuffled_100TeV.h5\n",
      "17:35 madminer.utils.inter INFO    HDF5 file does not contain nuisance parameters information\n"
     ]
    },
    {
     "name": "stderr",
     "output_type": "stream",
     "text": [
      "17:35 madminer.utils.inter INFO    HDF5 file does not contain finite difference information\n",
      "17:35 madminer.utils.inter INFO    HDF5 file does not contain systematic information\n",
      "17:35 madminer.analysis.da INFO    Found 3 parameters\n",
      "17:35 madminer.analysis.da INFO      0: cp (LHA: DIM6 5, Power: 2, Range: (-16, 8))\n",
      "17:35 madminer.analysis.da INFO      1: cdp (LHA: DIM6 4, Power: 2, Range: (-5, 6))\n",
      "17:35 madminer.analysis.da INFO      2: ctp (LHA: DIM62F 19, Power: 2, Range: (-6, 8))\n",
      "17:35 madminer.analysis.da INFO    Did not find nuisance parameters\n",
      "17:35 madminer.analysis.da INFO    Found 10 benchmarks\n",
      "17:35 madminer.analysis.da INFO    Found 20 observables\n",
      "17:35 madminer.analysis.da INFO    Found 176494 events\n",
      "17:35 madminer.analysis.da INFO      32878 signal events sampled from benchmark sm\n",
      "17:35 madminer.analysis.da INFO      14029 signal events sampled from benchmark morphing_basis_vector_1\n",
      "17:35 madminer.analysis.da INFO      27307 signal events sampled from benchmark morphing_basis_vector_2\n",
      "17:35 madminer.analysis.da INFO      24552 signal events sampled from benchmark morphing_basis_vector_3\n",
      "17:35 madminer.analysis.da INFO      8018 signal events sampled from benchmark morphing_basis_vector_4\n",
      "17:35 madminer.analysis.da INFO      16611 signal events sampled from benchmark morphing_basis_vector_5\n",
      "17:35 madminer.analysis.da INFO      5041 signal events sampled from benchmark morphing_basis_vector_6\n",
      "17:35 madminer.analysis.da INFO      3753 signal events sampled from benchmark morphing_basis_vector_7\n",
      "17:35 madminer.analysis.da INFO      17645 signal events sampled from benchmark morphing_basis_vector_8\n",
      "17:35 madminer.analysis.da INFO      26660 signal events sampled from benchmark morphing_basis_vector_9\n",
      "17:35 madminer.analysis.da INFO    Found morphing setup with 10 components\n",
      "17:35 madminer.analysis.da INFO    Did not find nuisance morphing setup\n",
      "17:35 madminer.sampling.sa INFO    Extracting plain training sample. Sampling according to 1000 random morphing points, drawn from the following priors: \n",
      "  theta_0 ~ flat from -14 to 6\n",
      "  theta_1 ~ flat from -4 to 5\n",
      "  theta_2 ~ flat from -5 to 7\n",
      "17:35 madminer.sampling.sa INFO    Starting sampling jobs in parallel, using 16 processes\n",
      "17:35 madminer.sampling.sa INFO    0 / 1000 jobs done\n",
      "17:35 madminer.sampling.sa INFO    100 / 1000 jobs done\n",
      "17:36 madminer.sampling.sa INFO    200 / 1000 jobs done\n",
      "17:36 madminer.sampling.sa INFO    300 / 1000 jobs done\n",
      "17:36 madminer.sampling.sa INFO    400 / 1000 jobs done\n",
      "17:37 madminer.sampling.sa INFO    500 / 1000 jobs done\n",
      "17:37 madminer.sampling.sa INFO    600 / 1000 jobs done\n",
      "17:37 madminer.sampling.sa INFO    701 / 1000 jobs done\n",
      "17:38 madminer.sampling.sa INFO    803 / 1000 jobs done\n",
      "17:38 madminer.sampling.sa INFO    900 / 1000 jobs done\n",
      "17:38 madminer.sampling.sa INFO    All jobs done!\n",
      "17:38 madminer.sampling.sa INFO    Effective number of samples: mean 3920.74459277433, with individual thetas ranging from 35.85628595314671 to 25146.071987414438\n",
      "17:38 madminer.sampling.sa INFO    Extracting evaluation sample. Sampling according to [  0 -20   0]\n",
      "17:38 madminer.sampling.sa INFO    Starting sampling serially\n",
      "17:38 madminer.sampling.sa INFO    Sampling from parameter point 1 / 1\n",
      "17:38 madminer.sampling.sa INFO    Effective number of samples: mean 1292.3633469803826, with individual thetas ranging from 1292.3633469803826 to 1292.3633469803826\n",
      "17:38 madminer.sampling.sa INFO    Extracting evaluation sample. Sampling according to [  0 -16   0]\n",
      "17:38 madminer.sampling.sa INFO    Starting sampling serially\n",
      "17:38 madminer.sampling.sa INFO    Sampling from parameter point 1 / 1\n",
      "17:38 madminer.sampling.sa INFO    Effective number of samples: mean 1379.8876306071095, with individual thetas ranging from 1379.8876306071093 to 1379.8876306071093\n",
      "17:38 madminer.sampling.sa INFO    Extracting evaluation sample. Sampling according to [  0 -12   0]\n",
      "17:38 madminer.sampling.sa INFO    Starting sampling serially\n",
      "17:38 madminer.sampling.sa INFO    Sampling from parameter point 1 / 1\n",
      "17:38 madminer.sampling.sa INFO    Effective number of samples: mean 1533.807962823295, with individual thetas ranging from 1533.8079628232945 to 1533.8079628232945\n",
      "17:38 madminer.sampling.sa INFO    Extracting evaluation sample. Sampling according to [ 0 -8  0]\n",
      "17:38 madminer.sampling.sa INFO    Starting sampling serially\n",
      "17:38 madminer.sampling.sa INFO    Sampling from parameter point 1 / 1\n",
      "17:38 madminer.sampling.sa INFO    Effective number of samples: mean 1857.533354574826, with individual thetas ranging from 1857.5333545748265 to 1857.5333545748265\n",
      "17:38 madminer.sampling.sa INFO    Extracting evaluation sample. Sampling according to [ 0 -4  0]\n",
      "17:38 madminer.sampling.sa INFO    Starting sampling serially\n",
      "17:38 madminer.sampling.sa INFO    Sampling from parameter point 1 / 1\n",
      "17:38 madminer.sampling.sa INFO    Effective number of samples: mean 2145.1931532891695, with individual thetas ranging from 2145.19315328917 to 2145.19315328917\n",
      "17:38 madminer.sampling.sa INFO    Extracting evaluation sample. Sampling according to [0 4 0]\n",
      "17:38 madminer.sampling.sa INFO    Starting sampling serially\n",
      "17:38 madminer.sampling.sa INFO    Sampling from parameter point 1 / 1\n",
      "17:38 madminer.sampling.sa INFO    Effective number of samples: mean 1883.8088437746599, with individual thetas ranging from 1883.8088437746605 to 1883.8088437746605\n",
      "17:38 madminer.sampling.sa INFO    Extracting evaluation sample. Sampling according to [0 8 0]\n",
      "17:38 madminer.sampling.sa INFO    Starting sampling serially\n",
      "17:38 madminer.sampling.sa INFO    Sampling from parameter point 1 / 1\n",
      "17:38 madminer.sampling.sa INFO    Effective number of samples: mean 3100.8361788565912, with individual thetas ranging from 3100.836178856592 to 3100.836178856592\n",
      "17:38 madminer.sampling.sa INFO    Extracting evaluation sample. Sampling according to [ 0 12  0]\n",
      "17:38 madminer.sampling.sa INFO    Starting sampling serially\n",
      "17:38 madminer.sampling.sa INFO    Sampling from parameter point 1 / 1\n",
      "17:38 madminer.sampling.sa INFO    Effective number of samples: mean 1489.1293211900334, with individual thetas ranging from 1489.129321190033 to 1489.129321190033\n",
      "17:38 madminer.sampling.sa INFO    Extracting evaluation sample. Sampling according to [ 0 16  0]\n",
      "17:38 madminer.sampling.sa INFO    Starting sampling serially\n",
      "17:38 madminer.sampling.sa INFO    Sampling from parameter point 1 / 1\n",
      "17:38 madminer.sampling.sa INFO    Effective number of samples: mean 1054.7725230597844, with individual thetas ranging from 1054.772523059784 to 1054.772523059784\n",
      "17:38 madminer.sampling.sa INFO    Extracting plain training sample. Sampling according to sm\n",
      "17:38 madminer.sampling.sa INFO    Starting sampling serially\n",
      "17:38 madminer.sampling.sa INFO    Sampling from parameter point 1 / 1\n",
      "17:38 madminer.sampling.sa INFO    Effective number of samples: mean 28348.259322016744, with individual thetas ranging from 28348.259322016365 to 28348.259322016365\n",
      "17:39 madminer.sampling.sa INFO    Extracting evaluation sample. Sampling according to sm\n",
      "17:39 madminer.sampling.sa INFO    Starting sampling serially\n",
      "17:39 madminer.sampling.sa INFO    Sampling from parameter point 1 / 1\n",
      "17:39 madminer.sampling.sa INFO    Effective number of samples: mean 4469.845303804314, with individual thetas ranging from 4469.845303804313 to 4469.845303804313\n"
     ]
    }
   ],
   "source": [
    "sampler = SampleAugmenter(f'{data_input_dir}/delphes_s_shuffled_100TeV.h5')\n",
    "\n",
    "\n",
    "# alternative training set\n",
    "x, theta, n_effective = sampler.sample_train_plain(\n",
    "    theta=sampling.random_morphing_points(1000, [(\"flat\", -14, 6), (\"flat\", -4, 5), (\"flat\", -5, 7)]),\n",
    "    n_samples=10000000,\n",
    "    folder=f'{samples_output_dir}/plain_real/delphes_s' + f\"/{parameter_code}\",\n",
    "    filename=f\"alt_{parameter_code}\",\n",
    "    sample_only_from_closest_benchmark=True,\n",
    "    n_processes=16,\n",
    "    validation_split = 0.0,\n",
    "    test_split = test_split\n",
    "    )\n",
    "\n",
    "# alternative test sets\n",
    "for code in test_set_codes.keys():\n",
    "\n",
    "    _ = sampler.sample_test(\n",
    "        theta=sampling.morphing_point(test_set_codes[code]),\n",
    "        n_samples=10000,\n",
    "        folder=f'{samples_output_dir}/plain_real/delphes_s' + f\"/{parameter_code}\",\n",
    "        filename=f\"alt_{parameter_code}_{code}_test\",\n",
    "        sample_only_from_closest_benchmark=True,\n",
    "        validation_split = 0.0,\n",
    "        test_split = test_split\n",
    "        )\n",
    "\n",
    "\n",
    "# SM training set\n",
    "x, theta, n_effective = sampler.sample_train_plain(\n",
    "    theta=sampling.benchmark(\"sm\"),\n",
    "    n_samples=10000000,\n",
    "    folder=f'{samples_output_dir}/plain_real/delphes_s' + f\"/{parameter_code}\",\n",
    "    filename=\"sm\",\n",
    "    sample_only_from_closest_benchmark=True,\n",
    "    n_processes=1,\n",
    "    validation_split = 0.0,\n",
    "    test_split = test_split\n",
    "    )\n",
    "\n",
    "# SM test set\n",
    "_ = sampler.sample_test(\n",
    "    theta=sampling.benchmark(\"sm\"),\n",
    "    n_samples=100000,\n",
    "    folder=f'{samples_output_dir}/plain_real/delphes_s' + f\"/{parameter_code}\",\n",
    "    filename=f\"sm_test\",\n",
    "    sample_only_from_closest_benchmark=True,\n",
    "    validation_split = 0.0,\n",
    "    test_split = test_split\n",
    "    )"
   ]
  },
  {
   "cell_type": "markdown",
   "metadata": {},
   "source": [
    "## Generate background samples"
   ]
  },
  {
   "cell_type": "code",
   "execution_count": 9,
   "metadata": {},
   "outputs": [
    {
     "name": "stderr",
     "output_type": "stream",
     "text": [
      "17:39 madminer.analysis.da INFO    Loading data from /home/hep/us322/SBI/nsbi_for_dihiggs/data/delphes_b0_shuffled_100TeV.h5\n",
      "17:39 madminer.utils.inter INFO    HDF5 file does not contain nuisance parameters information\n",
      "17:39 madminer.utils.inter INFO    HDF5 file does not contain finite difference information\n",
      "17:39 madminer.utils.inter INFO    HDF5 file does not contain systematic information\n",
      "17:39 madminer.analysis.da INFO    Found 3 parameters\n",
      "17:39 madminer.analysis.da INFO      0: cp (LHA: DIM6 5, Power: 2, Range: (-16, 8))\n",
      "17:39 madminer.analysis.da INFO      1: cdp (LHA: DIM6 4, Power: 2, Range: (-5, 6))\n",
      "17:39 madminer.analysis.da INFO      2: ctp (LHA: DIM62F 19, Power: 2, Range: (-6, 8))\n",
      "17:39 madminer.analysis.da INFO    Did not find nuisance parameters\n",
      "17:39 madminer.analysis.da INFO    Found 10 benchmarks\n",
      "17:39 madminer.analysis.da INFO    Found 20 observables\n",
      "17:39 madminer.analysis.da INFO    Found 183377 events\n",
      "17:39 madminer.analysis.da INFO      0 signal events sampled from benchmark sm\n",
      "17:39 madminer.analysis.da INFO      0 signal events sampled from benchmark morphing_basis_vector_1\n",
      "17:39 madminer.analysis.da INFO      0 signal events sampled from benchmark morphing_basis_vector_2\n",
      "17:39 madminer.analysis.da INFO      0 signal events sampled from benchmark morphing_basis_vector_3\n",
      "17:39 madminer.analysis.da INFO      0 signal events sampled from benchmark morphing_basis_vector_4\n",
      "17:39 madminer.analysis.da INFO      0 signal events sampled from benchmark morphing_basis_vector_5\n",
      "17:39 madminer.analysis.da INFO      0 signal events sampled from benchmark morphing_basis_vector_6\n",
      "17:39 madminer.analysis.da INFO      0 signal events sampled from benchmark morphing_basis_vector_7\n",
      "17:39 madminer.analysis.da INFO      0 signal events sampled from benchmark morphing_basis_vector_8\n",
      "17:39 madminer.analysis.da INFO      0 signal events sampled from benchmark morphing_basis_vector_9\n",
      "17:39 madminer.analysis.da INFO      183377 background events\n",
      "17:39 madminer.analysis.da INFO    Found morphing setup with 10 components\n",
      "17:39 madminer.analysis.da INFO    Did not find nuisance morphing setup\n",
      "17:39 madminer.sampling.sa INFO    Extracting plain training sample. Sampling according to sm\n",
      "17:39 madminer.sampling.sa INFO    Starting sampling serially\n",
      "17:39 madminer.sampling.sa INFO    Sampling from parameter point 1 / 1\n",
      "17:39 madminer.sampling.sa INFO    Effective number of samples: mean 93922.96629551462, with individual thetas ranging from 93922.96629551616 to 93922.96629551616\n",
      "17:39 madminer.sampling.sa INFO    Extracting evaluation sample. Sampling according to sm\n",
      "17:39 madminer.sampling.sa INFO    Starting sampling serially\n",
      "17:39 madminer.sampling.sa INFO    Sampling from parameter point 1 / 1\n",
      "17:39 madminer.sampling.sa INFO    Effective number of samples: mean 15315.955064748881, with individual thetas ranging from 15315.955064748881 to 15315.955064748881\n"
     ]
    }
   ],
   "source": [
    "sampler = SampleAugmenter(f'{data_input_dir}/delphes_b0_shuffled_100TeV.h5')\n",
    "\n",
    "\n",
    "# bkg training set\n",
    "x, theta, n_effective = sampler.sample_train_plain(\n",
    "    theta=sampling.benchmark(\"sm\"),\n",
    "    n_samples=10000000,\n",
    "    folder=f'{samples_output_dir}/plain_real/delphes_b0' + f\"/{parameter_code}\",\n",
    "    filename=\"bkg\",\n",
    "    sample_only_from_closest_benchmark=True,\n",
    "    n_processes=1,\n",
    "    validation_split = 0.0,\n",
    "    test_split = test_split\n",
    "    )\n",
    "\n",
    "\n",
    "# bkg test set\n",
    "_ = sampler.sample_test(\n",
    "    theta=sampling.benchmark(\"sm\"),\n",
    "    n_samples=100000,\n",
    "    folder=f'{samples_output_dir}/plain_real/delphes_b0' + f\"/{parameter_code}\",\n",
    "    filename=f\"bkg_test\",\n",
    "    sample_only_from_closest_benchmark=True,\n",
    "    validation_split = 0.0,\n",
    "    test_split = test_split\n",
    "    )\n"
   ]
  }
 ],
 "metadata": {
  "kernelspec": {
   "display_name": "Python3.8 (nsbi_dihggs)",
   "language": "python",
   "name": "python38_nsbi"
  },
  "language_info": {
   "codemirror_mode": {
    "name": "ipython",
    "version": 3
   },
   "file_extension": ".py",
   "mimetype": "text/x-python",
   "name": "python",
   "nbconvert_exporter": "python",
   "pygments_lexer": "ipython3",
   "version": "3.8.20"
  }
 },
 "nbformat": 4,
 "nbformat_minor": 4
}
