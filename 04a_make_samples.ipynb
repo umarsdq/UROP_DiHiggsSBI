{
 "cells": [
  {
   "cell_type": "markdown",
   "metadata": {},
   "source": [
    "# Step 4: Generate events at arbitrary benchmark points with MadMiner\n",
    "\n",
    "n.b.: this notebook is heavily based on the corresponding `MadMiner` one here: https://github.com/madminer-tool/madminer/blob/main/examples/tutorial_particle_physics/3a_likelihood_ratio.ipynb"
   ]
  },
  {
   "cell_type": "code",
   "execution_count": 54,
   "metadata": {},
   "outputs": [],
   "source": [
    "parameter_code = \"c2\""
   ]
  },
  {
   "cell_type": "code",
   "execution_count": 55,
   "metadata": {
    "tags": []
   },
   "outputs": [],
   "source": [
    "import logging\n",
    "import numpy as np\n",
    "import matplotlib\n",
    "from matplotlib import pyplot as plt\n",
    "\n",
    "%matplotlib inline\n",
    "\n",
    "from madminer.sampling import SampleAugmenter\n",
    "from madminer import sampling"
   ]
  },
  {
   "cell_type": "code",
   "execution_count": 56,
   "metadata": {
    "tags": []
   },
   "outputs": [],
   "source": [
    "# MadMiner output\n",
    "logging.basicConfig(\n",
    "    format='%(asctime)-5.5s %(name)-20.20s %(levelname)-7.7s %(message)s',\n",
    "    datefmt='%H:%M',\n",
    "    level=logging.INFO\n",
    ")\n",
    "\n",
    "# Output of all other modules (e.g. matplotlib)\n",
    "for key in logging.Logger.manager.loggerDict:\n",
    "    if \"madminer\" not in key:\n",
    "        logging.getLogger(key).setLevel(logging.WARNING)"
   ]
  },
  {
   "cell_type": "code",
   "execution_count": 57,
   "metadata": {
    "tags": []
   },
   "outputs": [],
   "source": [
    "import yaml\n",
    "with open(\"workflow.yaml\", \"r\") as file:\n",
    "    workflow = yaml.safe_load(file)"
   ]
  },
  {
   "cell_type": "code",
   "execution_count": 58,
   "metadata": {
    "tags": []
   },
   "outputs": [],
   "source": [
    "data_input_dir = workflow[\"sampling\"][\"input_dir\"]\n",
    "samples_output_dir = workflow[\"sampling\"][\"output_dir\"]"
   ]
  },
  {
   "cell_type": "markdown",
   "metadata": {},
   "source": [
    "## Generate signal samples at arbitrary benchmark points"
   ]
  },
  {
   "cell_type": "code",
   "execution_count": 59,
   "metadata": {
    "tags": []
   },
   "outputs": [],
   "source": [
    "test_split = 0.14"
   ]
  },
  {
   "cell_type": "markdown",
   "metadata": {},
   "source": [
    "You may want to specify exact benchmark points for test sets. Use the variable `parameter_code` to denote which SMEFT Wilson coefficients you're varying. "
   ]
  },
  {
   "cell_type": "code",
   "execution_count": 60,
   "metadata": {
    "tags": []
   },
   "outputs": [
    {
     "ename": "ValueError",
     "evalue": "Unknown parameter_code: c2",
     "output_type": "error",
     "traceback": [
      "\u001b[0;31m---------------------------------------------------------------------------\u001b[0m",
      "\u001b[0;31mValueError\u001b[0m                                Traceback (most recent call last)",
      "Cell \u001b[0;32mIn[60], line 43\u001b[0m\n\u001b[1;32m     37\u001b[0m     test_set_codes \u001b[38;5;241m=\u001b[39m {\n\u001b[1;32m     38\u001b[0m         \u001b[38;5;124m\"\u001b[39m\u001b[38;5;124mp0m2p2\u001b[39m\u001b[38;5;124m\"\u001b[39m: (\u001b[38;5;241m0\u001b[39m, \u001b[38;5;241m-\u001b[39m\u001b[38;5;241m2\u001b[39m, \u001b[38;5;241m2\u001b[39m),\n\u001b[1;32m     39\u001b[0m         \u001b[38;5;124m\"\u001b[39m\u001b[38;5;124mp0m3p1\u001b[39m\u001b[38;5;124m\"\u001b[39m: (\u001b[38;5;241m0\u001b[39m, \u001b[38;5;241m-\u001b[39m\u001b[38;5;241m3\u001b[39m, \u001b[38;5;241m1\u001b[39m),\n\u001b[1;32m     40\u001b[0m         \u001b[38;5;124m\"\u001b[39m\u001b[38;5;124mp0m1p3\u001b[39m\u001b[38;5;124m\"\u001b[39m: (\u001b[38;5;241m0\u001b[39m, \u001b[38;5;241m-\u001b[39m\u001b[38;5;241m1\u001b[39m, \u001b[38;5;241m3\u001b[39m),\n\u001b[1;32m     41\u001b[0m     }\n\u001b[1;32m     42\u001b[0m \u001b[38;5;28;01melse\u001b[39;00m:\n\u001b[0;32m---> 43\u001b[0m     \u001b[38;5;28;01mraise\u001b[39;00m \u001b[38;5;167;01mValueError\u001b[39;00m(\u001b[38;5;124mf\u001b[39m\u001b[38;5;124m\"\u001b[39m\u001b[38;5;124mUnknown parameter_code: \u001b[39m\u001b[38;5;132;01m{\u001b[39;00mparameter_code\u001b[38;5;132;01m}\u001b[39;00m\u001b[38;5;124m\"\u001b[39m)\n\u001b[1;32m     46\u001b[0m \u001b[38;5;28mprint\u001b[39m(\u001b[38;5;28mlist\u001b[39m(test_set_codes\u001b[38;5;241m.\u001b[39mkeys()))\n\u001b[1;32m     48\u001b[0m printed_codes \u001b[38;5;241m=\u001b[39m []\n",
      "\u001b[0;31mValueError\u001b[0m: Unknown parameter_code: c2"
     ]
    }
   ],
   "source": [
    "if parameter_code == \"c1\":\n",
    "    test_set_codes = {\n",
    "        \"m20\": (0, -20, 0),\n",
    "        \"m16\": (0, -16, 0),\n",
    "        \"m12\": (0, -12, 0),\n",
    "        \"m8\": (0, -8, 0),\n",
    "        \"m4\": (0, -4, 0),\n",
    "        \"p4\": (0, 4, 0),\n",
    "        \"p8\": (0, 8, 0),\n",
    "        \"p12\": (0, 12, 0),\n",
    "        \"p16\": (0, 16, 0),\n",
    "    }\n",
    "elif parameter_code == \"c0\":\n",
    "    test_set_codes = {\n",
    "        \"m12\": (-12, 0, 0),\n",
    "        \"m10\": (-10, 0, 0),\n",
    "        \"m8\": (-8, 0, 0),\n",
    "        \"m6\": (-6, 0, 0),\n",
    "        \"m4\": (-4, 0, 0),\n",
    "        \"m2\": (-2, 0, 0),\n",
    "        \"p2\": (2, 0, 0),\n",
    "        \"p1\": (1, 0, 0),\n",
    "    }\n",
    "elif parameter_code == \"c0c1\":\n",
    "    test_set_codes = {\n",
    "        \"m10p2p0\": (-10, 2, 0),\n",
    "        \"p3m2p0\": (3, -2, 0),\n",
    "        \"m4p1p0\": (-4, 1, 0),\n",
    "    }\n",
    "elif parameter_code == \"c0c2\":\n",
    "    test_set_codes = {\n",
    "        \"m10p0p3\": (-10, 0, 3),\n",
    "        \"p3p0m2\": (3, 0, -2),\n",
    "        \"m4p0p3\": (-4, 0, 3),\n",
    "    }\n",
    "elif parameter_code == \"c1c2\":\n",
    "    test_set_codes = {\n",
    "        \"p0m2p2\": (0, -2, 2),\n",
    "        \"p0m3p1\": (0, -3, 1),\n",
    "        \"p0m1p3\": (0, -1, 3),\n",
    "    }\n",
    "else:\n",
    "    raise ValueError(f\"Unknown parameter_code: {parameter_code}\")\n",
    "\n",
    "\n",
    "print(list(test_set_codes.keys()))\n",
    "\n",
    "printed_codes = []\n",
    "for c in test_set_codes.keys():\n",
    "    printed_codes.append([test_set_codes[c][0]/10.0,test_set_codes[c][1]/10.0,test_set_codes[c][2]/10.0])\n",
    "\n",
    "print(printed_codes)\n"
   ]
  },
  {
   "cell_type": "markdown",
   "metadata": {},
   "source": [
    "# Signal Events"
   ]
  },
  {
   "cell_type": "markdown",
   "metadata": {
    "tags": []
   },
   "source": [
    "Note that the line `theta=sampling.random_morphing_points(1000, [(\"flat\", -14, 6), (\"flat\", -4, 5), (\"flat\", -5, 7)]),` will have to be modified if you only want to scan over 1 Wilson coefficient."
   ]
  },
  {
   "cell_type": "code",
   "execution_count": null,
   "metadata": {
    "tags": []
   },
   "outputs": [
    {
     "name": "stderr",
     "output_type": "stream",
     "text": [
      "14:09 madminer.analysis.da INFO    Loading data from /vols/cms/us322/post_delphes_data/delphes_s_shuffled_100TeV.h5\n",
      "14:09 madminer.utils.inter INFO    HDF5 file does not contain nuisance parameters information\n",
      "14:09 madminer.utils.inter INFO    HDF5 file does not contain finite difference information\n",
      "14:09 madminer.utils.inter INFO    HDF5 file does not contain systematic information\n",
      "14:09 madminer.analysis.da INFO    Found 3 parameters\n",
      "14:09 madminer.analysis.da INFO      0: cp (LHA: DIM6 5, Power: 2, Range: (-16, 8))\n",
      "14:09 madminer.analysis.da INFO      1: cdp (LHA: DIM6 4, Power: 2, Range: (-5, 6))\n",
      "14:09 madminer.analysis.da INFO      2: ctp (LHA: DIM62F 19, Power: 2, Range: (-6, 8))\n",
      "14:09 madminer.analysis.da INFO    Did not find nuisance parameters\n",
      "14:09 madminer.analysis.da INFO    Found 10 benchmarks\n",
      "14:09 madminer.analysis.da INFO    Found 20 observables\n",
      "14:09 madminer.analysis.da INFO    Found 9456 events\n",
      "14:09 madminer.analysis.da INFO      1034 signal events sampled from benchmark sm\n",
      "14:09 madminer.analysis.da INFO      247 signal events sampled from benchmark morphing_basis_vector_1\n",
      "14:09 madminer.analysis.da INFO      872 signal events sampled from benchmark morphing_basis_vector_2\n",
      "14:09 madminer.analysis.da INFO      1825 signal events sampled from benchmark morphing_basis_vector_3\n",
      "14:09 madminer.analysis.da INFO      823 signal events sampled from benchmark morphing_basis_vector_4\n",
      "14:09 madminer.analysis.da INFO      654 signal events sampled from benchmark morphing_basis_vector_5\n",
      "14:09 madminer.analysis.da INFO      536 signal events sampled from benchmark morphing_basis_vector_6\n",
      "14:09 madminer.analysis.da INFO      418 signal events sampled from benchmark morphing_basis_vector_7\n",
      "14:09 madminer.analysis.da INFO      1685 signal events sampled from benchmark morphing_basis_vector_8\n",
      "14:09 madminer.analysis.da INFO      1362 signal events sampled from benchmark morphing_basis_vector_9\n",
      "14:09 madminer.analysis.da INFO    Found morphing setup with 10 components\n",
      "14:09 madminer.analysis.da INFO    Did not find nuisance morphing setup\n",
      "14:09 madminer.sampling.sa INFO    Extracting plain training sample. Sampling according to 1000 random morphing points, drawn from the following priors: \n",
      "  theta_0 ~ flat from -14 to 6\n",
      "  theta_1 ~ flat from -4 to 5\n",
      "  theta_2 ~ flat from -5 to 7\n",
      "14:09 madminer.sampling.sa INFO    Starting sampling jobs in parallel, using 16 processes\n",
      "14:09 madminer.sampling.sa INFO    0 / 1000 jobs done\n",
      "14:09 madminer.sampling.sa INFO    100 / 1000 jobs done\n",
      "14:09 madminer.sampling.sa INFO    200 / 1000 jobs done\n",
      "14:10 madminer.sampling.sa INFO    300 / 1000 jobs done\n",
      "14:10 madminer.sampling.sa INFO    400 / 1000 jobs done\n",
      "14:10 madminer.sampling.sa INFO    500 / 1000 jobs done\n",
      "14:10 madminer.sampling.sa INFO    600 / 1000 jobs done\n",
      "14:10 madminer.sampling.sa INFO    700 / 1000 jobs done\n",
      "14:10 madminer.sampling.sa INFO    800 / 1000 jobs done\n",
      "14:11 madminer.sampling.sa INFO    902 / 1000 jobs done\n",
      "14:11 madminer.sampling.sa INFO    All jobs done!\n",
      "14:11 madminer.sampling.sa INFO    Effective number of samples: mean 349.15113075924137, with individual thetas ranging from 24.83587418310385 to 1498.0238884552275\n",
      "14:11 madminer.sampling.sa INFO    Extracting evaluation sample. Sampling according to [-10   0   3]\n",
      "14:11 madminer.sampling.sa INFO    Starting sampling serially\n",
      "14:11 madminer.sampling.sa INFO    Sampling from parameter point 1 / 1\n",
      "14:11 madminer.sampling.sa INFO    Effective number of samples: mean 37.550658090604756, with individual thetas ranging from 37.55065809060474 to 37.55065809060474\n",
      "14:11 madminer.sampling.sa INFO    Extracting evaluation sample. Sampling according to [ 3  0 -2]\n",
      "14:11 madminer.sampling.sa INFO    Starting sampling serially\n",
      "14:11 madminer.sampling.sa INFO    Sampling from parameter point 1 / 1\n",
      "14:11 madminer.sampling.sa INFO    Effective number of samples: mean 37.6142029165825, with individual thetas ranging from 37.614202916582514 to 37.614202916582514\n",
      "14:11 madminer.sampling.sa INFO    Extracting evaluation sample. Sampling according to [-4  0  3]\n",
      "14:11 madminer.sampling.sa INFO    Starting sampling serially\n",
      "14:11 madminer.sampling.sa INFO    Sampling from parameter point 1 / 1\n",
      "14:11 madminer.sampling.sa WARNING Large statistical uncertainty on the total cross section when sampling from theta = [-4.  0.  3.]: (0.000032 +/- 0.000007) pb (22.25407470313461 %). Skipping these warnings in the future...\n",
      "14:11 madminer.sampling.sa INFO    Effective number of samples: mean 36.710683379350755, with individual thetas ranging from 36.71068337935076 to 36.71068337935076\n",
      "14:11 madminer.sampling.sa INFO    Extracting plain training sample. Sampling according to sm\n",
      "14:11 madminer.sampling.sa INFO    Starting sampling serially\n",
      "14:11 madminer.sampling.sa INFO    Sampling from parameter point 1 / 1\n",
      "14:11 madminer.sampling.sa INFO    Effective number of samples: mean 899.0, with individual thetas ranging from 899.0 to 899.0\n",
      "14:11 madminer.sampling.sa INFO    Extracting evaluation sample. Sampling according to sm\n",
      "14:11 madminer.sampling.sa INFO    Starting sampling serially\n",
      "14:11 madminer.sampling.sa INFO    Sampling from parameter point 1 / 1\n",
      "14:11 madminer.sampling.sa INFO    Effective number of samples: mean 134.00000000000003, with individual thetas ranging from 134.00000000000003 to 134.00000000000003\n"
     ]
    }
   ],
   "source": [
    "sampler = SampleAugmenter(f'{data_input_dir}/delphes_s_shuffled_100TeV.h5')\n",
    "\n",
    "\n",
    "# alternative training set\n",
    "x, theta, n_effective = sampler.sample_train_plain(\n",
    "    theta=sampling.random_morphing_points(1000, [(\"flat\", -14, 6), (\"flat\", -4, 5), (\"flat\", -5, 7)]),\n",
    "    n_samples=10000000,\n",
    "    folder=f'{samples_output_dir}/plain_real/delphes_s' + f\"/{parameter_code}\",\n",
    "    filename=f\"alt_{parameter_code}\",\n",
    "    sample_only_from_closest_benchmark=True,\n",
    "    n_processes=16,\n",
    "    validation_split = 0.0,\n",
    "    test_split = test_split\n",
    "    )\n",
    "\n",
    "# alternative test sets\n",
    "for code in test_set_codes.keys():\n",
    "\n",
    "    _ = sampler.sample_test(\n",
    "        theta=sampling.morphing_point(test_set_codes[code]),\n",
    "        n_samples=10000,\n",
    "        folder=f'{samples_output_dir}/plain_real/delphes_s' + f\"/{parameter_code}\",\n",
    "        filename=f\"alt_{parameter_code}_{code}_test\",\n",
    "        sample_only_from_closest_benchmark=True,\n",
    "        validation_split = 0.0,\n",
    "        test_split = test_split\n",
    "        )\n",
    "\n",
    "\n",
    "# SM training set\n",
    "x, theta, n_effective = sampler.sample_train_plain(\n",
    "    theta=sampling.benchmark(\"sm\"),\n",
    "    n_samples=10000000,\n",
    "    folder=f'{samples_output_dir}/plain_real/delphes_s' + f\"/{parameter_code}\",\n",
    "    filename=\"sm\",\n",
    "    sample_only_from_closest_benchmark=True,\n",
    "    n_processes=1,\n",
    "    validation_split = 0.0,\n",
    "    test_split = test_split\n",
    "    )\n",
    "\n",
    "# SM test set\n",
    "_ = sampler.sample_test(\n",
    "    theta=sampling.benchmark(\"sm\"),\n",
    "    n_samples=100000,\n",
    "    folder=f'{samples_output_dir}/plain_real/delphes_s' + f\"/{parameter_code}\",\n",
    "    filename=f\"sm_test\",\n",
    "    sample_only_from_closest_benchmark=True,\n",
    "    validation_split = 0.0,\n",
    "    test_split = test_split\n",
    "    )"
   ]
  },
  {
   "cell_type": "markdown",
   "metadata": {},
   "source": [
    "## Generate background samples"
   ]
  },
  {
   "cell_type": "code",
   "execution_count": null,
   "metadata": {},
   "outputs": [
    {
     "name": "stderr",
     "output_type": "stream",
     "text": [
      "14:11 madminer.analysis.da INFO    Loading data from /vols/cms/us322/post_delphes_data/delphes_b0_shuffled_100TeV.h5\n"
     ]
    },
    {
     "name": "stderr",
     "output_type": "stream",
     "text": [
      "14:11 madminer.utils.inter INFO    HDF5 file does not contain nuisance parameters information\n",
      "14:11 madminer.utils.inter INFO    HDF5 file does not contain finite difference information\n",
      "14:11 madminer.utils.inter INFO    HDF5 file does not contain systematic information\n",
      "14:11 madminer.analysis.da INFO    Found 3 parameters\n",
      "14:11 madminer.analysis.da INFO      0: cp (LHA: DIM6 5, Power: 2, Range: (-16, 8))\n",
      "14:11 madminer.analysis.da INFO      1: cdp (LHA: DIM6 4, Power: 2, Range: (-5, 6))\n",
      "14:11 madminer.analysis.da INFO      2: ctp (LHA: DIM62F 19, Power: 2, Range: (-6, 8))\n",
      "14:11 madminer.analysis.da INFO    Did not find nuisance parameters\n",
      "14:11 madminer.analysis.da INFO    Found 10 benchmarks\n",
      "14:11 madminer.analysis.da INFO    Found 20 observables\n",
      "14:11 madminer.analysis.da INFO    Found 1558 events\n",
      "14:11 madminer.analysis.da INFO      0 signal events sampled from benchmark sm\n",
      "14:11 madminer.analysis.da INFO      0 signal events sampled from benchmark morphing_basis_vector_1\n",
      "14:11 madminer.analysis.da INFO      0 signal events sampled from benchmark morphing_basis_vector_2\n",
      "14:11 madminer.analysis.da INFO      0 signal events sampled from benchmark morphing_basis_vector_3\n",
      "14:11 madminer.analysis.da INFO      0 signal events sampled from benchmark morphing_basis_vector_4\n",
      "14:11 madminer.analysis.da INFO      0 signal events sampled from benchmark morphing_basis_vector_5\n",
      "14:11 madminer.analysis.da INFO      0 signal events sampled from benchmark morphing_basis_vector_6\n",
      "14:11 madminer.analysis.da INFO      0 signal events sampled from benchmark morphing_basis_vector_7\n",
      "14:11 madminer.analysis.da INFO      0 signal events sampled from benchmark morphing_basis_vector_8\n",
      "14:11 madminer.analysis.da INFO      0 signal events sampled from benchmark morphing_basis_vector_9\n",
      "14:11 madminer.analysis.da INFO      1558 background events\n",
      "14:11 madminer.analysis.da INFO    Found morphing setup with 10 components\n",
      "14:11 madminer.analysis.da INFO    Did not find nuisance morphing setup\n",
      "14:11 madminer.sampling.sa INFO    Extracting plain training sample. Sampling according to sm\n",
      "14:11 madminer.sampling.sa INFO    Starting sampling serially\n",
      "14:11 madminer.sampling.sa INFO    Sampling from parameter point 1 / 1\n",
      "14:11 madminer.sampling.sa INFO    Effective number of samples: mean 1339.9999999999998, with individual thetas ranging from 1339.9999999999995 to 1339.9999999999995\n",
      "14:11 madminer.sampling.sa INFO    Extracting evaluation sample. Sampling according to sm\n",
      "14:11 madminer.sampling.sa INFO    Starting sampling serially\n",
      "14:11 madminer.sampling.sa INFO    Sampling from parameter point 1 / 1\n",
      "14:11 madminer.sampling.sa INFO    Effective number of samples: mean 216.99999999999997, with individual thetas ranging from 216.99999999999997 to 216.99999999999997\n"
     ]
    }
   ],
   "source": [
    "sampler = SampleAugmenter(f'{data_input_dir}/delphes_b0_shuffled_100TeV.h5')\n",
    "\n",
    "\n",
    "# bkg training set\n",
    "x, theta, n_effective = sampler.sample_train_plain(\n",
    "    theta=sampling.benchmark(\"sm\"),\n",
    "    n_samples=10000000,\n",
    "    folder=f'{samples_output_dir}/plain_real/delphes_b0' + f\"/{parameter_code}\",\n",
    "    filename=\"bkg\",\n",
    "    sample_only_from_closest_benchmark=True,\n",
    "    n_processes=1,\n",
    "    validation_split = 0.0,\n",
    "    test_split = test_split\n",
    "    )\n",
    "\n",
    "\n",
    "# bkg test set\n",
    "_ = sampler.sample_test(\n",
    "    theta=sampling.benchmark(\"sm\"),\n",
    "    n_samples=100000,\n",
    "    folder=f'{samples_output_dir}/plain_real/delphes_b0' + f\"/{parameter_code}\",\n",
    "    filename=f\"bkg_test\",\n",
    "    sample_only_from_closest_benchmark=True,\n",
    "    validation_split = 0.0,\n",
    "    test_split = test_split\n",
    "    )\n"
   ]
  }
 ],
 "metadata": {
  "kernelspec": {
   "display_name": "Python 3",
   "language": "python",
   "name": "python3"
  },
  "language_info": {
   "codemirror_mode": {
    "name": "ipython",
    "version": 3
   },
   "file_extension": ".py",
   "mimetype": "text/x-python",
   "name": "python",
   "nbconvert_exporter": "python",
   "pygments_lexer": "ipython3",
   "version": "3.8.20"
  }
 },
 "nbformat": 4,
 "nbformat_minor": 4
}
